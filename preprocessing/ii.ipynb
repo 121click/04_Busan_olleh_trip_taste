{
 "cells": [
  {
   "cell_type": "code",
   "execution_count": 1,
   "metadata": {},
   "outputs": [],
   "source": [
    "# k-medroids\n",
    "\n",
    "# In[1]:\n",
    "\n",
    "import numpy as np\n",
    "\n",
    "# In[2]:\n",
    "\n",
    "def kmedoids(D, k, tmax=100):\n",
    "\n",
    "    # convert distance matrix D to a cost matrix\n",
    "    C = np.max(D) - D\n",
    "\n",
    "    # initialize: randomly select k medoids\n",
    "    m = np.random.choice(D.shape[0], k, replace=False)\n",
    "\n",
    "    # create a copy of the array of medoid indices\n",
    "    M = np.copy(m)\n",
    "\n",
    "    # containers of cluster indices\n",
    "    C = []\n",
    "\n",
    "    for t in range(tmax):\n",
    "\n",
    "        # determine clusters, i.e. arrays of data indices\n",
    "        C = [np.where(np.argmin(C[:,m], axis=1) == i)[0] for i in range(k)]\n",
    "\n",
    "        # update medoids with the minimum total cost (sum of distances to all points in the cluster)\n",
    "        m = [np.argmin(np.sum(C[i][:,m], axis=1)) for i in range(k)]\n",
    "\n",
    "        # check for convergence\n",
    "        if np.all(m == M):\n",
    "            break\n",
    "\n",
    "        M = np.copy(m)\n",
    "\n",
    "    return M, C\n"
   ]
  },
  {
   "cell_type": "code",
   "execution_count": 2,
   "metadata": {},
   "outputs": [
    {
     "ename": "TypeError",
     "evalue": "list indices must be integers or slices, not tuple",
     "output_type": "error",
     "traceback": [
      "\u001b[1;31m---------------------------------------------------------------------------\u001b[0m",
      "\u001b[1;31mTypeError\u001b[0m                                 Traceback (most recent call last)",
      "\u001b[1;32mc:\\Users\\admin\\내 드라이브(vesafree@gmail.com)\\Code\\현국\\ii.ipynb 셀 2\u001b[0m in \u001b[0;36m<cell line: 19>\u001b[1;34m()\u001b[0m\n\u001b[0;32m     <a href='vscode-notebook-cell:/c%3A/Users/admin/%EB%82%B4%20%EB%93%9C%EB%9D%BC%EC%9D%B4%EB%B8%8C%28vesafree%40gmail.com%29/Code/%ED%98%84%EA%B5%AD/ii.ipynb#W1sZmlsZQ%3D%3D?line=12'>13</a>\u001b[0m D \u001b[39m=\u001b[39m np\u001b[39m.\u001b[39msqrt(((X[:,\u001b[39mNone\u001b[39;00m,:] \u001b[39m-\u001b[39m X[\u001b[39mNone\u001b[39;00m,:,:])\u001b[39m*\u001b[39m\u001b[39m*\u001b[39m\u001b[39m2\u001b[39m)\u001b[39m.\u001b[39msum(axis\u001b[39m=\u001b[39m\u001b[39m2\u001b[39m))\n\u001b[0;32m     <a href='vscode-notebook-cell:/c%3A/Users/admin/%EB%82%B4%20%EB%93%9C%EB%9D%BC%EC%9D%B4%EB%B8%8C%28vesafree%40gmail.com%29/Code/%ED%98%84%EA%B5%AD/ii.ipynb#W1sZmlsZQ%3D%3D?line=14'>15</a>\u001b[0m \u001b[39m# In[5]:\u001b[39;00m\n\u001b[0;32m     <a href='vscode-notebook-cell:/c%3A/Users/admin/%EB%82%B4%20%EB%93%9C%EB%9D%BC%EC%9D%B4%EB%B8%8C%28vesafree%40gmail.com%29/Code/%ED%98%84%EA%B5%AD/ii.ipynb#W1sZmlsZQ%3D%3D?line=15'>16</a>\u001b[0m \n\u001b[0;32m     <a href='vscode-notebook-cell:/c%3A/Users/admin/%EB%82%B4%20%EB%93%9C%EB%9D%BC%EC%9D%B4%EB%B8%8C%28vesafree%40gmail.com%29/Code/%ED%98%84%EA%B5%AD/ii.ipynb#W1sZmlsZQ%3D%3D?line=16'>17</a>\u001b[0m \u001b[39m# run k-medoids\u001b[39;00m\n\u001b[1;32m---> <a href='vscode-notebook-cell:/c%3A/Users/admin/%EB%82%B4%20%EB%93%9C%EB%9D%BC%EC%9D%B4%EB%B8%8C%28vesafree%40gmail.com%29/Code/%ED%98%84%EA%B5%AD/ii.ipynb#W1sZmlsZQ%3D%3D?line=18'>19</a>\u001b[0m M, C \u001b[39m=\u001b[39m kmedoids(D, \u001b[39m3\u001b[39;49m)\n\u001b[0;32m     <a href='vscode-notebook-cell:/c%3A/Users/admin/%EB%82%B4%20%EB%93%9C%EB%9D%BC%EC%9D%B4%EB%B8%8C%28vesafree%40gmail.com%29/Code/%ED%98%84%EA%B5%AD/ii.ipynb#W1sZmlsZQ%3D%3D?line=20'>21</a>\u001b[0m \u001b[39m# In[6]:\u001b[39;00m\n\u001b[0;32m     <a href='vscode-notebook-cell:/c%3A/Users/admin/%EB%82%B4%20%EB%93%9C%EB%9D%BC%EC%9D%B4%EB%B8%8C%28vesafree%40gmail.com%29/Code/%ED%98%84%EA%B5%AD/ii.ipynb#W1sZmlsZQ%3D%3D?line=21'>22</a>\u001b[0m \n\u001b[0;32m     <a href='vscode-notebook-cell:/c%3A/Users/admin/%EB%82%B4%20%EB%93%9C%EB%9D%BC%EC%9D%B4%EB%B8%8C%28vesafree%40gmail.com%29/Code/%ED%98%84%EA%B5%AD/ii.ipynb#W1sZmlsZQ%3D%3D?line=22'>23</a>\u001b[0m \u001b[39m# plot\u001b[39;00m\n\u001b[0;32m     <a href='vscode-notebook-cell:/c%3A/Users/admin/%EB%82%B4%20%EB%93%9C%EB%9D%BC%EC%9D%B4%EB%B8%8C%28vesafree%40gmail.com%29/Code/%ED%98%84%EA%B5%AD/ii.ipynb#W1sZmlsZQ%3D%3D?line=24'>25</a>\u001b[0m \u001b[39mimport\u001b[39;00m \u001b[39mmatplotlib\u001b[39;00m\u001b[39m.\u001b[39;00m\u001b[39mpyplot\u001b[39;00m \u001b[39mas\u001b[39;00m \u001b[39mplt\u001b[39;00m\n",
      "\u001b[1;32mc:\\Users\\admin\\내 드라이브(vesafree@gmail.com)\\Code\\현국\\ii.ipynb 셀 2\u001b[0m in \u001b[0;36mkmedoids\u001b[1;34m(D, k, tmax)\u001b[0m\n\u001b[0;32m     <a href='vscode-notebook-cell:/c%3A/Users/admin/%EB%82%B4%20%EB%93%9C%EB%9D%BC%EC%9D%B4%EB%B8%8C%28vesafree%40gmail.com%29/Code/%ED%98%84%EA%B5%AD/ii.ipynb#W1sZmlsZQ%3D%3D?line=20'>21</a>\u001b[0m C \u001b[39m=\u001b[39m []\n\u001b[0;32m     <a href='vscode-notebook-cell:/c%3A/Users/admin/%EB%82%B4%20%EB%93%9C%EB%9D%BC%EC%9D%B4%EB%B8%8C%28vesafree%40gmail.com%29/Code/%ED%98%84%EA%B5%AD/ii.ipynb#W1sZmlsZQ%3D%3D?line=22'>23</a>\u001b[0m \u001b[39mfor\u001b[39;00m t \u001b[39min\u001b[39;00m \u001b[39mrange\u001b[39m(tmax):\n\u001b[0;32m     <a href='vscode-notebook-cell:/c%3A/Users/admin/%EB%82%B4%20%EB%93%9C%EB%9D%BC%EC%9D%B4%EB%B8%8C%28vesafree%40gmail.com%29/Code/%ED%98%84%EA%B5%AD/ii.ipynb#W1sZmlsZQ%3D%3D?line=23'>24</a>\u001b[0m \n\u001b[0;32m     <a href='vscode-notebook-cell:/c%3A/Users/admin/%EB%82%B4%20%EB%93%9C%EB%9D%BC%EC%9D%B4%EB%B8%8C%28vesafree%40gmail.com%29/Code/%ED%98%84%EA%B5%AD/ii.ipynb#W1sZmlsZQ%3D%3D?line=24'>25</a>\u001b[0m     \u001b[39m# determine clusters, i.e. arrays of data indices\u001b[39;00m\n\u001b[1;32m---> <a href='vscode-notebook-cell:/c%3A/Users/admin/%EB%82%B4%20%EB%93%9C%EB%9D%BC%EC%9D%B4%EB%B8%8C%28vesafree%40gmail.com%29/Code/%ED%98%84%EA%B5%AD/ii.ipynb#W1sZmlsZQ%3D%3D?line=25'>26</a>\u001b[0m     C \u001b[39m=\u001b[39m [np\u001b[39m.\u001b[39mwhere(np\u001b[39m.\u001b[39margmin(C[:,m], axis\u001b[39m=\u001b[39m\u001b[39m1\u001b[39m) \u001b[39m==\u001b[39m i)[\u001b[39m0\u001b[39m] \u001b[39mfor\u001b[39;00m i \u001b[39min\u001b[39;00m \u001b[39mrange\u001b[39m(k)]\n\u001b[0;32m     <a href='vscode-notebook-cell:/c%3A/Users/admin/%EB%82%B4%20%EB%93%9C%EB%9D%BC%EC%9D%B4%EB%B8%8C%28vesafree%40gmail.com%29/Code/%ED%98%84%EA%B5%AD/ii.ipynb#W1sZmlsZQ%3D%3D?line=27'>28</a>\u001b[0m     \u001b[39m# update medoids with the minimum total cost (sum of distances to all points in the cluster)\u001b[39;00m\n\u001b[0;32m     <a href='vscode-notebook-cell:/c%3A/Users/admin/%EB%82%B4%20%EB%93%9C%EB%9D%BC%EC%9D%B4%EB%B8%8C%28vesafree%40gmail.com%29/Code/%ED%98%84%EA%B5%AD/ii.ipynb#W1sZmlsZQ%3D%3D?line=28'>29</a>\u001b[0m     m \u001b[39m=\u001b[39m [np\u001b[39m.\u001b[39margmin(np\u001b[39m.\u001b[39msum(C[i][:,m], axis\u001b[39m=\u001b[39m\u001b[39m1\u001b[39m)) \u001b[39mfor\u001b[39;00m i \u001b[39min\u001b[39;00m \u001b[39mrange\u001b[39m(k)]\n",
      "\u001b[1;32mc:\\Users\\admin\\내 드라이브(vesafree@gmail.com)\\Code\\현국\\ii.ipynb 셀 2\u001b[0m in \u001b[0;36m<listcomp>\u001b[1;34m(.0)\u001b[0m\n\u001b[0;32m     <a href='vscode-notebook-cell:/c%3A/Users/admin/%EB%82%B4%20%EB%93%9C%EB%9D%BC%EC%9D%B4%EB%B8%8C%28vesafree%40gmail.com%29/Code/%ED%98%84%EA%B5%AD/ii.ipynb#W1sZmlsZQ%3D%3D?line=20'>21</a>\u001b[0m C \u001b[39m=\u001b[39m []\n\u001b[0;32m     <a href='vscode-notebook-cell:/c%3A/Users/admin/%EB%82%B4%20%EB%93%9C%EB%9D%BC%EC%9D%B4%EB%B8%8C%28vesafree%40gmail.com%29/Code/%ED%98%84%EA%B5%AD/ii.ipynb#W1sZmlsZQ%3D%3D?line=22'>23</a>\u001b[0m \u001b[39mfor\u001b[39;00m t \u001b[39min\u001b[39;00m \u001b[39mrange\u001b[39m(tmax):\n\u001b[0;32m     <a href='vscode-notebook-cell:/c%3A/Users/admin/%EB%82%B4%20%EB%93%9C%EB%9D%BC%EC%9D%B4%EB%B8%8C%28vesafree%40gmail.com%29/Code/%ED%98%84%EA%B5%AD/ii.ipynb#W1sZmlsZQ%3D%3D?line=23'>24</a>\u001b[0m \n\u001b[0;32m     <a href='vscode-notebook-cell:/c%3A/Users/admin/%EB%82%B4%20%EB%93%9C%EB%9D%BC%EC%9D%B4%EB%B8%8C%28vesafree%40gmail.com%29/Code/%ED%98%84%EA%B5%AD/ii.ipynb#W1sZmlsZQ%3D%3D?line=24'>25</a>\u001b[0m     \u001b[39m# determine clusters, i.e. arrays of data indices\u001b[39;00m\n\u001b[1;32m---> <a href='vscode-notebook-cell:/c%3A/Users/admin/%EB%82%B4%20%EB%93%9C%EB%9D%BC%EC%9D%B4%EB%B8%8C%28vesafree%40gmail.com%29/Code/%ED%98%84%EA%B5%AD/ii.ipynb#W1sZmlsZQ%3D%3D?line=25'>26</a>\u001b[0m     C \u001b[39m=\u001b[39m [np\u001b[39m.\u001b[39mwhere(np\u001b[39m.\u001b[39margmin(C[:,m], axis\u001b[39m=\u001b[39m\u001b[39m1\u001b[39m) \u001b[39m==\u001b[39m i)[\u001b[39m0\u001b[39m] \u001b[39mfor\u001b[39;00m i \u001b[39min\u001b[39;00m \u001b[39mrange\u001b[39m(k)]\n\u001b[0;32m     <a href='vscode-notebook-cell:/c%3A/Users/admin/%EB%82%B4%20%EB%93%9C%EB%9D%BC%EC%9D%B4%EB%B8%8C%28vesafree%40gmail.com%29/Code/%ED%98%84%EA%B5%AD/ii.ipynb#W1sZmlsZQ%3D%3D?line=27'>28</a>\u001b[0m     \u001b[39m# update medoids with the minimum total cost (sum of distances to all points in the cluster)\u001b[39;00m\n\u001b[0;32m     <a href='vscode-notebook-cell:/c%3A/Users/admin/%EB%82%B4%20%EB%93%9C%EB%9D%BC%EC%9D%B4%EB%B8%8C%28vesafree%40gmail.com%29/Code/%ED%98%84%EA%B5%AD/ii.ipynb#W1sZmlsZQ%3D%3D?line=28'>29</a>\u001b[0m     m \u001b[39m=\u001b[39m [np\u001b[39m.\u001b[39margmin(np\u001b[39m.\u001b[39msum(C[i][:,m], axis\u001b[39m=\u001b[39m\u001b[39m1\u001b[39m)) \u001b[39mfor\u001b[39;00m i \u001b[39min\u001b[39;00m \u001b[39mrange\u001b[39m(k)]\n",
      "\u001b[1;31mTypeError\u001b[0m: list indices must be integers or slices, not tuple"
     ]
    }
   ],
   "source": [
    "# In[3]:\n",
    "\n",
    "# generate some random data\n",
    "\n",
    "np.random.seed(0)\n",
    "\n",
    "X = np.random.random((100, 2))\n",
    "\n",
    "# In[4]:\n",
    "\n",
    "# compute pairwise distances\n",
    "\n",
    "D = np.sqrt(((X[:,None,:] - X[None,:,:])**2).sum(axis=2))\n",
    "\n",
    "# In[5]:\n",
    "\n",
    "# run k-medoids\n",
    "\n",
    "M, C = kmedoids(D, 3)\n",
    "\n",
    "# In[6]:\n",
    "\n",
    "# plot\n",
    "\n",
    "import matplotlib.pyplot as plt\n",
    "\n",
    "%matplotlib inline\n",
    "\n",
    "plt.scatter(X[:,0], X[:,1], c=np.argmax(D[:,M], axis=1))\n",
    "\n",
    "plt.scatter(X[M,0], X[M,1], c='r', s=100)\n",
    "\n",
    "plt.show()"
   ]
  }
 ],
 "metadata": {
  "kernelspec": {
   "display_name": "Python 3.9.13 ('web')",
   "language": "python",
   "name": "python3"
  },
  "language_info": {
   "codemirror_mode": {
    "name": "ipython",
    "version": 3
   },
   "file_extension": ".py",
   "mimetype": "text/x-python",
   "name": "python",
   "nbconvert_exporter": "python",
   "pygments_lexer": "ipython3",
   "version": "3.9.13"
  },
  "orig_nbformat": 4,
  "vscode": {
   "interpreter": {
    "hash": "a5e7e8f872320555b50ac54370c74f1f286190517b375e4238474aa45f483ea0"
   }
  }
 },
 "nbformat": 4,
 "nbformat_minor": 2
}
